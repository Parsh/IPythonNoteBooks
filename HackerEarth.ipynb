{
 "cells": [
  {
   "cell_type": "markdown",
   "metadata": {},
   "source": [
    "# Practice: @HackerEARTH"
   ]
  },
  {
   "cell_type": "markdown",
   "metadata": {},
   "source": [
    "# Basic I/O"
   ]
  },
  {
   "cell_type": "markdown",
   "metadata": {},
   "source": [
    "### Palindrome String\n",
    "You have been given a String \n",
    "S. You need to find and print whether this string is a palindrome or not. If yes, print \"YES\" (without quotes), else print \"NO\" (without quotes).\n",
    "\n",
    "Input Format\n",
    "The first and only line of input contains the String \n",
    "S. The String shall consist of lowercase English alphabets only.\n",
    "\n",
    "Output Format\n",
    "Print the required answer on a single line."
   ]
  },
  {
   "cell_type": "code",
   "execution_count": null,
   "metadata": {
    "collapsed": true
   },
   "outputs": [],
   "source": [
    "string = raw_input()\n",
    "reverse_str = string[::-1]\n",
    "for each in xrange(len(string)):\n",
    "    if string[each] == reverse_str[each]: continue\n",
    "    else : \n",
    "        print \"NO\"\n",
    "        exit()\n",
    "print \"YES\""
   ]
  },
  {
   "cell_type": "markdown",
   "metadata": {},
   "source": [
    "### Toggle String\n",
    "You have been given a String \n",
    "S consisting of uppercase and lowercase English alphabets. You need to change the case of each alphabet in this String. That is, all the uppercase letters should be converted to lowercase and all the lowercase letters should be converted to uppercase. You need to then print the resultant String to output.\n",
    "\n",
    "Input Format\n",
    "The first and only line of input contains the String \n",
    "S\n",
    "\n",
    "Output Format\n",
    "Print the resultant String on a single line."
   ]
  },
  {
   "cell_type": "code",
   "execution_count": null,
   "metadata": {
    "collapsed": true
   },
   "outputs": [],
   "source": [
    "print ''.join(c.upper() if c.islower() else c.lower() for c in raw_input())"
   ]
  },
  {
   "cell_type": "markdown",
   "metadata": {},
   "source": [
    "### Product Array\n",
    "You have been given an array \n",
    "A of size \n",
    "N consisting of positive integers. You need to find and print the product of all the number in this array Modulo \n",
    "10\n",
    "9\n",
    "+\n",
    "7\n",
    "109+7.\n",
    "\n",
    "Input Format:\n",
    "The first line contains a single integer \n",
    "N denoting the size of the array. The next line contains \n",
    "N space separated integers denoting the elements of the array\n",
    "\n",
    "Output Format:\n",
    "Print a single integer denoting the product of all the elements of the array Modulo \n",
    "10\n",
    "9\n",
    "+\n",
    "7\n",
    "109+7."
   ]
  },
  {
   "cell_type": "code",
   "execution_count": null,
   "metadata": {
    "collapsed": true
   },
   "outputs": [],
   "source": [
    "from functools import reduce\n",
    "raw_input()\n",
    "print reduce(lambda x,y : x*y%(10**9+7) , map(lambda x: long(x),raw_input().split()))"
   ]
  },
  {
   "cell_type": "markdown",
   "metadata": {},
   "source": [
    "### Count Divisors\n",
    "You have been given \n",
    "3 integers \n",
    "l, \n",
    "r and \n",
    "k. Find how many numbers between \n",
    "l and \n",
    "r (both inclusive) are divisible by \n",
    "k. You do not need to print these numbers, you just have to find their count.\n",
    "\n",
    "Input Format\n",
    "The first and only line of input contains 3 space separated integers \n",
    "l, \n",
    "r and \n",
    "k.\n",
    "\n",
    "Output Format\n",
    "Print the required answer on a single line."
   ]
  },
  {
   "cell_type": "code",
   "execution_count": null,
   "metadata": {
    "collapsed": false
   },
   "outputs": [],
   "source": [
    "y = raw_input().split()\n",
    "temp =map(lambda x : int(x) , y)\n",
    "count = 0\n",
    "for each in xrange(temp[0] , temp[1]+1):\n",
    "        count+=1 if each%temp[2] == 0 else 0\n",
    "            \n",
    "print count"
   ]
  },
  {
   "cell_type": "markdown",
   "metadata": {},
   "source": [
    "### Profile Picture\n",
    "Roy wants to change his profile picture on Facebook. Now Facebook has some restriction over the dimension of picture that we can upload.\n",
    "Minimum dimension of the picture can be L x L, where L is the length of the side of square.\n",
    "\n",
    "Now Roy has N photos of various dimensions.\n",
    "Dimension of a photo is denoted as W x H \n",
    "where W - width of the photo and H - Height of the photo\n",
    "\n",
    "When any photo is uploaded following events may occur:\n",
    "\n",
    "[1] If any of the width or height is less than L, user is prompted to upload another one. Print \"UPLOAD ANOTHER\" in this case.\n",
    "[2] If width and height, both are large enough and \n",
    "(a) if the photo is already square then it is accepted. Print \"ACCEPTED\" in this case.\n",
    "(b) else user is prompted to crop it. Print \"CROP IT\" in this case.\n",
    "\n",
    "(quotes are only for clarification)\n",
    "\n",
    "Given L, N, W and H as input, print appropriate text as output.\n",
    "\n",
    "Input:\n",
    "First line contains L.\n",
    "Second line contains N, number of photos.\n",
    "Following N lines each contains two space separated integers W and H.\n",
    "\n",
    "Output:\n",
    "Print appropriate text for each photo in a new line."
   ]
  },
  {
   "cell_type": "code",
   "execution_count": null,
   "metadata": {
    "collapsed": false
   },
   "outputs": [],
   "source": [
    "minimum = int(raw_input())\n",
    "dimensions = list()\n",
    "for each in xrange(int(raw_input())):\n",
    "         dimensions.append(map(lambda x : int(x) , raw_input().split(\" \")))\n",
    "\n",
    "for each in dimensions:\n",
    "        if each[0]<minimum or each[1]<minimum:\n",
    "             print \"UPLOAD ANOTHER\"\n",
    "        else:\n",
    "                if each[0]==each[1]:print \"ACCEPTED\"\n",
    "                else: print \"CROP IT\""
   ]
  },
  {
   "cell_type": "markdown",
   "metadata": {},
   "source": [
    "### Factorial\n",
    "You have been given a positive integer \n",
    "N. You need to find and print the Factorial of this number. The Factorial of a positive integer \n",
    "N refers to the product of all number in the range from\n",
    "1 to \n",
    "N. You can read more about the factorial of a number here.\n",
    "\n",
    "Input Format:\n",
    "The first and only line of the input contains a single integer \n",
    "N denoting the number whose factorial you need to find.\n",
    "\n",
    "Output Format\n",
    "Output a single line denoting the factorial of the number \n",
    "N."
   ]
  },
  {
   "cell_type": "code",
   "execution_count": null,
   "metadata": {
    "collapsed": false
   },
   "outputs": [],
   "source": [
    "from functools import reduce\n",
    "fact = [ each for each in xrange(1,int(raw_input())+1) ]\n",
    "print reduce(lambda x,y: x*y , fact)"
   ]
  },
  {
   "cell_type": "markdown",
   "metadata": {},
   "source": [
    "### Magical Word\n",
    "Dhananjay has recently learned about ASCII values.He is very fond of experimenting. With his knowledge of ASCII values and character he has developed a special word and named it Dhananjay's Magical word.\n",
    "\n",
    "A word which consist of alphabets whose ASCII values is a prime number is an Dhananjay's Magical word. An alphabet is Dhananjay's Magical alphabet if its ASCII value is prime.\n",
    "\n",
    "Dhananjay's nature is to boast about the things he know or have learnt about. So just to defame his friends he gives few string to his friends and ask them to convert it to Dhananjay's Magical word. None of his friends would like to get insulted. Help them to convert the given strings to Dhananjay's Magical Word.\n",
    "\n",
    "Rules for converting:\n",
    "\n",
    "1.Each character should be replaced by the nearest Dhananjay's Magical alphabet.\n",
    "\n",
    "2.If the character is equidistant with 2 Magical alphabets. The one with lower ASCII value will be considered as its replacement.\n",
    "\n",
    "Input format:\n",
    "\n",
    "First line of input contains an integer T number of test cases. Each test case contains an integer N (denoting the length of the string) and a string S.\n",
    "\n",
    "Output Format:\n",
    "\n",
    "For each test case, print Dhananjay's Magical Word in a new line."
   ]
  },
  {
   "cell_type": "code",
   "execution_count": null,
   "metadata": {
    "collapsed": true
   },
   "outputs": [],
   "source": [
    "import math\n",
    "primes = list()\n",
    "for each in xrange(2,127):\n",
    "    isprime = True\n",
    "    for z in xrange(2,int(math.sqrt(each))+1):\n",
    "        if each%z == 0 : isprime = False\n",
    "    if isprime: primes.append(each)       \n",
    "#primes of use:primes = [67, 71, 73, 79, 83, 89, 97, 101, 103, 107, 109, 113] for alphabets only(lower and uppercase) ,as prob need range of primes only corresponding to the ASCII alphabets            \n",
    "\n",
    "for each in xrange(int(raw_input())):\n",
    "    raw_input()\n",
    "    word = raw_input()\n",
    "    store = list()\n",
    "    for alpha in word:\n",
    "        ascii = ord(alpha)\n",
    "        store.append(min(primes , key = lambda x : abs(ascii-x)))\n",
    "    print \"\".join(chr(each) for each in store) "
   ]
  },
  {
   "cell_type": "markdown",
   "metadata": {},
   "source": [
    "# Implementation"
   ]
  },
  {
   "cell_type": "markdown",
   "metadata": {},
   "source": [
    "### Area of Union of Rect\n",
    "Given N rectangles in an infinite 2-D plane. Find the area of union of rectangles. \n",
    "\n",
    "Input Format\n",
    "\n",
    "First line contains an integer N denoting number of rectangles. Next N line contains four integers separated by a space denoting X1, Y1, X2 and Y2 respectively where (X1, Y1) denotes lower left coordinate of rectangle and (X2, Y2) denotes upper right coordinate of rectangle. \n",
    "\n",
    "Output Format\n",
    "\n",
    "In a single line print area of union of all N rectangles. "
   ]
  },
  {
   "cell_type": "code",
   "execution_count": null,
   "metadata": {
    "collapsed": true
   },
   "outputs": [],
   "source": [
    "rectDimensions = list()\n",
    "for each in xrange(int(raw_input())):\n",
    "         rectDimensions.append( map(lambda x : int(x),raw_input().split()))\n",
    "         \n",
    "areas = list()     \n",
    "\n",
    "def gimmeArea(a, b, c, d):\n",
    "        l, b = c-a, d-b\n",
    "        return l*b\n",
    "    \n",
    "for dims in rectDimensions:\n",
    "         areas.append(gimmeArea(dims[0],dims[1],dims[2],dims[3]))\n",
    "\n",
    "overlap = list()\n",
    "for base in rectDimensions:\n",
    "         \n",
    "         for each in rectDimensions:\n",
    "    \n",
    "                if each == base : continue\n",
    "                if base[2] > each[2] or base[3]> each[3]: continue\n",
    "                x = base[2]-each[0]\n",
    "                y = base[3]-each[1]\n",
    "            \n",
    "                if x > 0 or y > 0:\n",
    "                    overlap.append(gimmeArea(each[0],each[1],base[2],base[3]))\n",
    "\n",
    "print sum(areas)-sum(overlap) "
   ]
  },
  {
   "cell_type": "markdown",
   "metadata": {},
   "source": [
    "### Seven Segment Display\n",
    "All over the world, peoples are working on energy solution. It would be a tough time for our next generation to survive if we don’t think about solution. Tony stark is working on a new project and wants to display his project using “seven segment display - concept”. Tony Stark gave Jarvis a task to find a number from his Favorite list of number for which the energy consumption is lowest.\n",
    "\n",
    "(Assuming that for a digit to represent Tony stark is using 7 bulbs and only those bulbs light up which are required to represent a number and rest other would be completely off.)\n",
    "\n",
    "Help Jarvis and conserve energy.\n",
    "\n",
    "Input:\n",
    "First line will contain the number of test cases and for every test case first line will contain length of favorite list and the second line for a test case will contain n numbers\n",
    "\n",
    "Output:\n",
    "For every test case print the answer. If there exist more than 1 numbers for which same number of bulbs are required than output the number which occurs first in the Favorite list."
   ]
  },
  {
   "cell_type": "code",
   "execution_count": null,
   "metadata": {
    "collapsed": true
   },
   "outputs": [],
   "source": [
    "for test_case in xrange(int(raw_input())):\n",
    "    fav_length = int(raw_input())\n",
    "    fav_list = raw_input().split()\n",
    "\n",
    "    #consumption dictionary..  number : no_ofLEDS\n",
    "    consumption = {\n",
    "        0 : 6,\n",
    "        1 : 2,\n",
    "        2 : 5,\n",
    "        3 : 5,\n",
    "        4 : 4,\n",
    "        5 : 5,\n",
    "        6 : 6,\n",
    "        7 : 3,\n",
    "        8 : 7,\n",
    "        9 : 6\n",
    "    }    \n",
    "    \n",
    "    def consumption_cal(numb):\n",
    "        leds_used = 0\n",
    "        for each in numb:\n",
    "            leds_used += consumption[int(each)]\n",
    "        return leds_used      \n",
    "        \n",
    "    print min(fav_list , key = lambda x : consumption_cal(x) )    "
   ]
  },
  {
   "cell_type": "markdown",
   "metadata": {},
   "source": [
    "### The Pattern Addition\n",
    "The great Kian is looking for a smart prime minister. He's looking for a guy who can solve the OLP (Old Legendary Problem). OLP is an old problem (obviously) that no one was able to solve it yet (like P=NP).\n",
    "\n",
    "But still, you want to be the prime minister really bad. So here's the problem:\n",
    "\n",
    "Given the sequence a1, a2, ..., an find the three values a1 + a4 + a7 + ..., a2 + a5 + a8 + ... and a3 + a6 + a9 + ... (these summations go on while the indexes are valid).\n",
    "\n",
    "Input\n",
    "\n",
    "The first line of input contains a single integer n (1 ≤ n ≤ 105).\n",
    "\n",
    "The second line contains n integers a1, a2, ..., an separated by space (1 ≤ ai ≤ 109).\n",
    "\n",
    "Output\n",
    "\n",
    "Print three values in one line (the answers)."
   ]
  },
  {
   "cell_type": "code",
   "execution_count": null,
   "metadata": {
    "collapsed": true
   },
   "outputs": [],
   "source": [
    "total = int(raw_input())\n",
    "values = map(lambda x : int(x) , raw_input().split())\n",
    "\n",
    "x, y, z = list(), list(), list()\n",
    "for index in xrange(total):\n",
    "    if index%3 == 0:\n",
    "        x.append(values[index])\n",
    "    elif index%3 == 1:\n",
    "        y.append(values[index])\n",
    "    else:\n",
    "        z.append(values[index])\n",
    "print sum(x), sum(y), sum(z)       "
   ]
  },
  {
   "cell_type": "markdown",
   "metadata": {},
   "source": [
    "### Digit Problem\n",
    "This time your task is simple.\n",
    "\n",
    "Given two integers \n",
    "X and \n",
    "K, find the largest number that can be formed by changing digits at atmost \n",
    "K places in the number \n",
    "X.\n",
    "\n",
    "Input:\n",
    "\n",
    "First line of the input contains two integers \n",
    "X and \n",
    "K separated by a single space.\n",
    "\n",
    "Output:\n",
    "\n",
    "Print the largest number formed in a single line."
   ]
  },
  {
   "cell_type": "code",
   "execution_count": null,
   "metadata": {
    "collapsed": true
   },
   "outputs": [],
   "source": [
    "import re\n",
    "x, k = raw_input().split()\n",
    "if int(k) != 0:             #as if max given to re.sub is 0 than it will perform changes at all places matching the pattern\n",
    "    print re.sub(\"[0-8]\",\"9\", x, int(k))  #[0-8] coz if 9 is there , it's already the largest for that place\n",
    "else: print x  "
   ]
  },
  {
   "cell_type": "markdown",
   "metadata": {},
   "source": [
    "### Max-Min\n",
    "Given an array of integers . Check if all the numbers between minimum and maximum number in array exist's within the array .\n",
    "\n",
    "Print 'YES' if numbers exist otherwise print 'NO'(without quotes).\n",
    "\n",
    "Input:\n",
    "\n",
    "Integer N denoting size of array\n",
    "\n",
    "Next line contains N space separated integers denoting elements in array\n",
    "\n",
    "Output:\n",
    "\n",
    "Output your answer"
   ]
  },
  {
   "cell_type": "code",
   "execution_count": null,
   "metadata": {
    "collapsed": true
   },
   "outputs": [],
   "source": [
    "size = int(raw_input())\n",
    "nums = map( lambda x: int(x) , raw_input().split())\n",
    "\n",
    "x = min(nums)\n",
    "y = max(nums)\n",
    "is_there = True\n",
    "for each in xrange(x, y):\n",
    "        if each in nums:continue\n",
    "        else:\n",
    "            is_there = False\n",
    "\n",
    "if is_there:\n",
    "    print \"YES\"\n",
    "else:\n",
    "    print \"NO\""
   ]
  }
 ],
 "metadata": {
  "anaconda-cloud": {},
  "kernelspec": {
   "display_name": "Python [conda root]",
   "language": "python",
   "name": "conda-root-py"
  },
  "language_info": {
   "codemirror_mode": {
    "name": "ipython",
    "version": 2
   },
   "file_extension": ".py",
   "mimetype": "text/x-python",
   "name": "python",
   "nbconvert_exporter": "python",
   "pygments_lexer": "ipython2",
   "version": "2.7.12"
  }
 },
 "nbformat": 4,
 "nbformat_minor": 1
}
