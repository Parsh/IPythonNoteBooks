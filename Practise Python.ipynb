{
 "cells": [
  {
   "cell_type": "markdown",
   "metadata": {},
   "source": [
    "## Break Timer"
   ]
  },
  {
   "cell_type": "code",
   "execution_count": 11,
   "metadata": {
    "collapsed": false
   },
   "outputs": [
    {
     "name": "stdout",
     "output_type": "stream",
     "text": [
      "Program Started at: Sat Jan 28 21:15:29 2017\n",
      "Ended at: Sat Jan 28 21:15:42 2017\n"
     ]
    }
   ],
   "source": [
    "import time\n",
    "import webbrowser\n",
    "\n",
    "print \"Program Started at: \" + time.ctime()\n",
    "for each in xrange(3):\n",
    "    \n",
    "    time.sleep(4)\n",
    "    webbrowser.open_new_tab(\"https://in.udacity.com/\")\n",
    "print \"Ended at: \" + time.ctime()   "
   ]
  },
  {
   "cell_type": "markdown",
   "metadata": {},
   "source": [
    "## Accessing and Manipulating Files"
   ]
  },
  {
   "cell_type": "code",
   "execution_count": 25,
   "metadata": {
    "collapsed": false
   },
   "outputs": [
    {
     "name": "stdout",
     "output_type": "stream",
     "text": [
      "$RECYCLE.BIN\n",
      "Facebook123.txt\n",
      "System Volume Information\n",
      "C:\\Users\\Domin8R\\Documents\n"
     ]
    }
   ],
   "source": [
    "import os\n",
    "for each in os.listdir(r\"D:\"):\n",
    "    print each\n",
    "print os.getcwd()\n",
    "os.chdir(\"D:\")\n",
    "os.rename('Facebook123.txt','Facebook123.txt'.translate(None,'12345'))    "
   ]
  },
  {
   "cell_type": "markdown",
   "metadata": {
    "collapsed": true
   },
   "source": [
    "## The Turtle Class"
   ]
  },
  {
   "cell_type": "code",
   "execution_count": null,
   "metadata": {
    "collapsed": false
   },
   "outputs": [],
   "source": [
    "import turtle\n",
    "import time\n",
    "\n",
    "def make_window(color):\n",
    "    window = turtle.Screen()\n",
    "    window.bgcolor(color)\n",
    "    return window\n",
    "\n",
    "def get_turtle(color , speed , shape):\n",
    "    new_turtle = turtle.Turtle()\n",
    "    new_turtle.color(color)\n",
    "    new_turtle.speed(speed)\n",
    "    new_turtle.shape(shape)\n",
    "    return new_turtle\n",
    "\n",
    "def draw_sqaure(some_turtle , side):\n",
    "    for each in xrange(4):\n",
    "        some_turtle.forward(side)\n",
    "        some_turtle.right(90)\n",
    "            \n",
    "            \n",
    "\n",
    "def draw_art():\n",
    "    window = make_window('black')\n",
    "    squirtle = get_turtle('white' , 5 , 'turtle')\n",
    "    for each in xrange(37):\n",
    "        draw_sqaure(squirtle , 200)\n",
    "        squirtle.right(10)\n",
    "   \n",
    "    window.exitonclick()\n",
    "    \n",
    "    \n",
    "draw_art()    "
   ]
  },
  {
   "cell_type": "markdown",
   "metadata": {},
   "source": [
    "# Twilio (Sending Messages)"
   ]
  },
  {
   "cell_type": "code",
   "execution_count": 2,
   "metadata": {
    "collapsed": false
   },
   "outputs": [
    {
     "name": "stdout",
     "output_type": "stream",
     "text": [
      "5.7.0\n"
     ]
    }
   ],
   "source": [
    "import twilio\n",
    "print twilio.__version__"
   ]
  },
  {
   "cell_type": "code",
   "execution_count": 8,
   "metadata": {
    "collapsed": false
   },
   "outputs": [
    {
     "name": "stdout",
     "output_type": "stream",
     "text": [
      "SM4e573ee529c848d49684535441cc7bf1\n"
     ]
    }
   ],
   "source": [
    "from twilio.rest import TwilioRestClient\n",
    "\n",
    "account_sid = \"ACe029f4f4280fa526099ae92e5e954969\" # Your Account SID from www.twilio.com/console\n",
    "auth_token  = \"09eb7bfe42470f017a988fdc85a245be\"  # Your Auth Token from www.twilio.com/console\n",
    "\n",
    "client = TwilioRestClient(account_sid, auth_token)\n",
    "\n",
    "message = client.messages.create(body=\"Hello from Python\",\n",
    "    to=\"+917415577780\",    # Replace with your phone number\n",
    "    from_=\"+19185746919 \") # Replace with your Twilio number\n",
    "\n",
    "print(message.sid)"
   ]
  },
  {
   "cell_type": "markdown",
   "metadata": {},
   "source": [
    "## Checking Profanity"
   ]
  },
  {
   "cell_type": "code",
   "execution_count": 30,
   "metadata": {
    "collapsed": false
   },
   "outputs": [
    {
     "name": "stdout",
     "output_type": "stream",
     "text": [
      "No Curse Word!!\n"
     ]
    }
   ],
   "source": [
    "import urllib\n",
    "\n",
    "def check_profanity(some_text):\n",
    "    connection = urllib.urlopen(\"http://www.wdylike.appspot.com/?q=\"+some_text)\n",
    "    return connection.read()\n",
    "\n",
    "quotes = open(\"E:\\movie_quotes.txt\")\n",
    "output = quotes.read()\n",
    "quotes.close()\n",
    "if check_profanity(output) == 'false':\n",
    "    print 'No Curse Word!!'\n",
    "else : print 'Curse Alert!!'   \n",
    "   "
   ]
  },
  {
   "cell_type": "code",
   "execution_count": null,
   "metadata": {
    "collapsed": true
   },
   "outputs": [],
   "source": []
  }
 ],
 "metadata": {
  "anaconda-cloud": {},
  "kernelspec": {
   "display_name": "Python [conda root]",
   "language": "python",
   "name": "conda-root-py"
  },
  "language_info": {
   "codemirror_mode": {
    "name": "ipython",
    "version": 2
   },
   "file_extension": ".py",
   "mimetype": "text/x-python",
   "name": "python",
   "nbconvert_exporter": "python",
   "pygments_lexer": "ipython2",
   "version": "2.7.12"
  }
 },
 "nbformat": 4,
 "nbformat_minor": 1
}
